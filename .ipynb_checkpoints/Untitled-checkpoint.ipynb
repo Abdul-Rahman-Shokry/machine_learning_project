{
 "cells": [
  {
   "cell_type": "code",
   "execution_count": 1,
   "id": "e1121dde",
   "metadata": {},
   "outputs": [
    {
     "name": "stdout",
     "output_type": "stream",
     "text": [
      "100000\n"
     ]
    }
   ],
   "source": [
    "print(\"100000\")"
   ]
  },
  {
   "cell_type": "code",
   "execution_count": 1,
   "id": "b2c49772",
   "metadata": {},
   "outputs": [
    {
     "name": "stdout",
     "output_type": "stream",
     "text": [
      "41\n"
     ]
    }
   ],
   "source": [
    "print(\"41\")"
   ]
  },
  {
   "cell_type": "code",
   "execution_count": null,
   "id": "865bf92c",
   "metadata": {},
   "outputs": [],
   "source": []
  }
 ],
 "metadata": {
  "kernelspec": {
   "display_name": "Python 3 (ipykernel)",
   "language": "python",
   "name": "python3"
  },
  "language_info": {
   "codemirror_mode": {
    "name": "ipython",
    "version": 3
   },
   "file_extension": ".py",
   "mimetype": "text/x-python",
   "name": "python",
   "nbconvert_exporter": "python",
   "pygments_lexer": "ipython3",
   "version": "3.11.5"
  }
 },
 "nbformat": 4,
 "nbformat_minor": 5
}
